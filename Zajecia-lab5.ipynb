{
  "nbformat": 4,
  "nbformat_minor": 0,
  "metadata": {
    "colab": {
      "name": "Copy of Untitled8.ipynb",
      "provenance": [],
      "collapsed_sections": []
    },
    "kernelspec": {
      "name": "python3",
      "display_name": "Python 3"
    }
  },
  "cells": [
    {
      "cell_type": "code",
      "metadata": {
        "id": "8wo7g8iMoK_s",
        "colab_type": "code",
        "colab": {}
      },
      "source": [
        "#lab 5\n",
        "#J.Czaja, nr indeksu 5954\n"
      ],
      "execution_count": 0,
      "outputs": []
    },
    {
      "cell_type": "code",
      "metadata": {
        "id": "LvRToJLrxlHy",
        "colab_type": "code",
        "colab": {}
      },
      "source": [
        ""
      ],
      "execution_count": 0,
      "outputs": []
    },
    {
      "cell_type": "code",
      "metadata": {
        "id": "QSmVSgVQx2Sn",
        "colab_type": "code",
        "colab": {}
      },
      "source": [
        "# Zadanie 1:\n",
        "# Wyjaśnij w kilku zdaniach jaka cecha została wywnioskowana przez PCA i co ona intuicyjnie mogłaby oznaczać\n",
        "\n",
        "#Analiza głównych składowych (ang. principal component analysis, PCA) jako jedna ze statystycznych metod\n",
        "# analizy czynnikowej, pozwoliło na ustalenie, że z punktu widzenia zastosowanej metody, największa\n",
        "# zneczenie ma \"Petal length\". Badany zbiór, złożony z danych o irysach, pozwala w ten sposób\n",
        "# na określenie, że długość płatków kwiatu odgrywa największe znaczenie.\n",
        "# Na otrzymanym wykresie objawia się to wyraźnym wyizolowaniem badanej klasy."
      ],
      "execution_count": 0,
      "outputs": []
    },
    {
      "cell_type": "code",
      "metadata": {
        "id": "JoNVa9tnIvg3",
        "colab_type": "code",
        "colab": {}
      },
      "source": [
        "# Zadanie bonus: przeprowadź dekompozycję PCA na wybranym przez siebie innym zbiorze danych\n",
        "#WYBIERAMY ZBIOR WIN DO BADANIA  za pomoca PCA\n",
        "from sklearn.datasets import load_wine\n",
        "dataset = load_wine()\n",
        "\n",
        "import matplotlib.pyplot as plt\n",
        "import numpy as np\n",
        "import pandas as pd\n",
        "from sklearn.model_selection import ShuffleSplit\n",
        "from sklearn.model_selection import train_test_split\n",
        "from sklearn.metrics import r2_score\n",
        "from sklearn.linear_model import LinearRegression\n",
        "from sklearn import linear_model\n",
        "from sklearn.model_selection import train_test_split\n",
        "from sklearn import preprocessing\n",
        "\n"
      ],
      "execution_count": 0,
      "outputs": []
    },
    {
      "cell_type": "code",
      "metadata": {
        "id": "jqzVXiJQS1A2",
        "colab_type": "code",
        "outputId": "62f5b28f-c0b9-4097-b40d-8e8919f7b219",
        "colab": {
          "base_uri": "https://localhost:8080/",
          "height": 105
        }
      },
      "source": [
        "# Podział zestawu danych na zestaw szkoleniowy i testowy\n",
        "X = dataset.data\n",
        "y = dataset.target\n",
        "from sklearn.model_selection import train_test_split \n",
        "  \n",
        "X_train, X_test, y_train, y_test = train_test_split(X, y, test_size = 0.2, random_state = 0) \n",
        " \n",
        "# Skalowanie funkcji\n",
        "#  Dopasowanie i przetwarzania wstępne danych\n",
        "from sklearn.preprocessing import StandardScaler \n",
        "sc = StandardScaler() \n",
        "  \n",
        "X_train = sc.fit_transform(X_train) \n",
        "X_test = sc.transform(X_test) \n",
        " \n",
        "# Zastosowanie funkcji PCA do zestawu danych uczacych  i testowych\n",
        "from sklearn.decomposition import PCA \n",
        "  \n",
        "pca = PCA(n_components = 2) \n",
        "  \n",
        "X_train = pca.fit_transform(X_train) \n",
        "X_test = pca.transform(X_test) \n",
        "  \n",
        "explained_variance = pca.explained_variance_ratio_ \n",
        " \n",
        "#  Dopasowanie regresji logistycznej do danych uczacych\n",
        "from sklearn.linear_model import LogisticRegression   \n",
        "  \n",
        "classifier = LogisticRegression(random_state = 0) \n",
        "classifier.fit(X_train, y_train) \n",
        "\n",
        "# Przewidywanie wyniku zestawu testów za pomocą\n",
        "# funkcja przewidywania poprzez LogisticRegression\n",
        "y_pred = classifier.predict(X_test) \n",
        "\n",
        "# Tworzenie confusion matrix między zestaw testowmy Y i przewidywana wartoscia\n",
        "\n",
        "from sklearn.metrics import confusion_matrix \n",
        "  \n",
        "cm = confusion_matrix(y_test, y_pred) "
      ],
      "execution_count": 21,
      "outputs": [
        {
          "output_type": "stream",
          "text": [
            "/usr/local/lib/python3.6/dist-packages/sklearn/linear_model/logistic.py:432: FutureWarning: Default solver will be changed to 'lbfgs' in 0.22. Specify a solver to silence this warning.\n",
            "  FutureWarning)\n",
            "/usr/local/lib/python3.6/dist-packages/sklearn/linear_model/logistic.py:469: FutureWarning: Default multi_class will be changed to 'auto' in 0.22. Specify the multi_class option to silence this warning.\n",
            "  \"this warning.\", FutureWarning)\n"
          ],
          "name": "stderr"
        }
      ]
    },
    {
      "cell_type": "code",
      "metadata": {
        "id": "Zij0psYyn7Ou",
        "colab_type": "code",
        "outputId": "ad9edc61-f050-4f04-bc0f-359d6187d069",
        "colab": {
          "base_uri": "https://localhost:8080/",
          "height": 366
        }
      },
      "source": [
        "\n",
        "import matplotlib.pyplot as plt\n",
        "import pandas as pd\n",
        "import numpy as np\n",
        "\n",
        "# Przewidywanie wyniku zestawu treningowego\n",
        "# Prognozowanie zestawu treningowego, wynik poprzez wykres rozproszenia\n",
        "from matplotlib.colors import ListedColormap \n",
        "  \n",
        "X_set, y_set = X_train, y_train \n",
        "X1, X2 = np.meshgrid(np.arange(start = X_set[:, 0].min() - 1, \n",
        "                     stop = X_set[:, 0].max() + 1, step = 0.01), \n",
        "                     np.arange(start = X_set[:, 1].min() - 1, \n",
        "                     stop = X_set[:, 1].max() + 1, step = 0.01)) \n",
        "  \n",
        "plt.contourf(X1, X2, classifier.predict(np.array([X1.ravel(), \n",
        "             X2.ravel()]).T).reshape(X1.shape), alpha = 0.75, \n",
        "             cmap = ListedColormap(('yellow', 'white', 'aquamarine'))) \n",
        "  \n",
        "plt.xlim(X1.min(), X1.max()) \n",
        "plt.ylim(X2.min(), X2.max()) \n",
        "  \n",
        "for i, j in enumerate(np.unique(y_set)): \n",
        "    plt.scatter(X_set[y_set == j, 0], X_set[y_set == j, 1], \n",
        "                c = ListedColormap(('red', 'green', 'blue'))(i), label = j) \n",
        "  \n",
        "plt.title('Logistic Regression (trenowanie)') \n",
        "plt.xlabel('PC1') \n",
        "plt.ylabel('PC2') \n",
        "\n",
        "plt.legend(scatterpoints=1)\n",
        "plt.grid()\n",
        "plt.show() \n",
        "\n",
        " "
      ],
      "execution_count": 24,
      "outputs": [
        {
          "output_type": "stream",
          "text": [
            "'c' argument looks like a single numeric RGB or RGBA sequence, which should be avoided as value-mapping will have precedence in case its length matches with 'x' & 'y'.  Please use a 2-D array with a single row if you really want to specify the same RGB or RGBA value for all points.\n",
            "'c' argument looks like a single numeric RGB or RGBA sequence, which should be avoided as value-mapping will have precedence in case its length matches with 'x' & 'y'.  Please use a 2-D array with a single row if you really want to specify the same RGB or RGBA value for all points.\n",
            "'c' argument looks like a single numeric RGB or RGBA sequence, which should be avoided as value-mapping will have precedence in case its length matches with 'x' & 'y'.  Please use a 2-D array with a single row if you really want to specify the same RGB or RGBA value for all points.\n"
          ],
          "name": "stderr"
        },
        {
          "output_type": "display_data",
          "data": {
            "image/png": "[encoded data removed]",
            "text/plain": [
              "<Figure size 432x288 with 1 Axes>"
            ]
          },
          "metadata": {
            "tags": []
          }
        }
      ]
    }
  ]
}