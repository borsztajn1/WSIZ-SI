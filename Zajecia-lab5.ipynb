{
  "nbformat": 4,
  "nbformat_minor": 0,
  "metadata": {
    "colab": {
      "name": "Copy of Copy of Untitled8.ipynb",
      "provenance": [],
      "collapsed_sections": []
    },
    "kernelspec": {
      "name": "python3",
      "display_name": "Python 3"
    }
  },
  "cells": [
    {
      "cell_type": "code",
      "metadata": {
        "id": "8wo7g8iMoK_s",
        "colab_type": "code",
        "colab": {}
      },
      "source": [
        "#lab 5\n",
        "#J.Czaja, nr indeksu 5954\n"
      ],
      "execution_count": 0,
      "outputs": []
    },
    {
      "cell_type": "code",
      "metadata": {
        "id": "LvRToJLrxlHy",
        "colab_type": "code",
        "colab": {}
      },
      "source": [
        ""
      ],
      "execution_count": 0,
      "outputs": []
    },
    {
      "cell_type": "code",
      "metadata": {
        "id": "QSmVSgVQx2Sn",
        "colab_type": "code",
        "colab": {}
      },
      "source": [
        "# Zadanie 1:\n",
        "# Wyjaśnij w kilku zdaniach jaka cecha została wywnioskowana przez PCA i co ona intuicyjnie mogłaby oznaczać\n",
        "\n",
        "#Analiza głównych składowych (ang. principal component analysis, PCA) jako jedna ze statystycznych metod\n",
        "# analizy czynnikowej, pozwoliło na ustalenie, że z punktu widzenia zastosowanej metody, największa\n",
        "# zneczenie ma \"Petal length\". Badany zbiór, złożony z danych o irysach, pozwala w ten sposób\n",
        "# na określenie, że długość płatków kwiatu odgrywa największe znaczenie.\n",
        "# Na otrzymanym wykresie objawia się to wyraźnym wyizolowaniem badanej klasy."
      ],
      "execution_count": 0,
      "outputs": []
    },
    {
      "cell_type": "code",
      "metadata": {
        "id": "JoNVa9tnIvg3",
        "colab_type": "code",
        "colab": {}
      },
      "source": [
        "# Zadanie bonus: przeprowadź dekompozycję PCA na wybranym przez siebie innym zbiorze danych\n",
        "#WYBIERAMY ZBIOR WIN DO BADANIA  za pomoca PCA\n",
        "from sklearn.datasets import load_wine\n",
        "dataset = load_wine()\n",
        "import matplotlib.pyplot as plt\n",
        "import numpy as np\n",
        "import pandas as pd\n",
        "from sklearn.model_selection import ShuffleSplit\n",
        "from sklearn.model_selection import train_test_split\n",
        "from sklearn.metrics import r2_score\n",
        "from sklearn.linear_model import LinearRegression\n",
        "from sklearn import linear_model\n",
        "from sklearn.model_selection import train_test_split\n",
        "from sklearn import preprocessing\n",
        "\n"
      ],
      "execution_count": 0,
      "outputs": []
    },
    {
      "cell_type": "code",
      "metadata": {
        "id": "-rSfPCnN6jB5",
        "colab_type": "code",
        "outputId": "051e8c73-c951-4ba2-dc60-fb3de9a2671d",
        "colab": {
          "base_uri": "https://localhost:8080/",
          "height": 935
        }
      },
      "source": [
        "# WINA - Podział zestawu danych na zestaw szkoleniowy i testowy\n",
        "X = dataset.data\n",
        "y = dataset.target\n",
        "from sklearn.model_selection import train_test_split \n",
        "from sklearn.decomposition import PCA \n",
        "\n",
        "pca = PCA()\n",
        "pca.fit(X)\n",
        "pca_limit = PCA(n_components = 1)\n",
        "\n",
        "# Zastosowanie funkcji PCA do zestawu danych uczacych  i testowych\n",
        "# Cechy:\n",
        "print(\"Liczba komponentów: \", pca.n_components_)\n",
        "\n",
        "# Wpływ oryginalnych cech na wywnioskowaną cechę\n",
        "print(\"Skład nowej cechy:\")\n",
        "print(pca.components_)\n"
      ],
      "execution_count": 0,
      "outputs": [
        {
          "output_type": "stream",
          "text": [
            "Liczba komponentów:  13\n",
            "Skład nowej cechy:\n",
            "[[ 1.65926472e-03 -6.81015556e-04  1.94905742e-04 -4.67130058e-03\n",
            "   1.78680075e-02  9.89829680e-04  1.56728830e-03 -1.23086662e-04\n",
            "   6.00607792e-04  2.32714319e-03  1.71380037e-04  7.04931645e-04\n",
            "   9.99822937e-01]\n",
            " [ 1.20340617e-03  2.15498184e-03  4.59369254e-03  2.64503930e-02\n",
            "   9.99344186e-01  8.77962152e-04 -5.18507284e-05 -1.35447892e-03\n",
            "   5.00440040e-03  1.51003530e-02 -7.62673115e-04 -3.49536431e-03\n",
            "  -1.77738095e-02]\n",
            " [-1.68738094e-02 -1.22003373e-01 -5.19874304e-02 -9.38593003e-01\n",
            "   2.97802484e-02  4.04846439e-02  8.54433387e-02 -1.35107797e-02\n",
            "   2.46593824e-02 -2.91398464e-01  2.59776624e-02  7.03239693e-02\n",
            "  -4.52868159e-03]\n",
            " [-1.41446778e-01 -1.60389543e-01  9.77280992e-03  3.30965260e-01\n",
            "   5.39375605e-03  7.45846556e-02  1.69086724e-01 -1.08055610e-02\n",
            "   5.01209524e-02 -8.78893693e-01  6.00349446e-02  1.78200254e-01\n",
            "   3.11291570e-03]\n",
            " [ 2.03369773e-02 -6.12883454e-01  2.01755752e-02  6.43523403e-02\n",
            "  -6.14934472e-03  3.15245063e-01  5.24761088e-01 -2.96475124e-02\n",
            "   2.51182529e-01  3.31747051e-01  5.15240771e-02  2.60639176e-01\n",
            "  -2.29856939e-03]\n",
            " [ 1.94120104e-01  7.42472963e-01  4.17529118e-02 -2.40653026e-02\n",
            "  -1.92378154e-03  2.78716809e-01  4.33597955e-01 -2.19528343e-02\n",
            "   2.41884488e-01  2.73960896e-03 -2.37761666e-02  2.88912753e-01\n",
            "  -1.21225507e-03]\n",
            " [-9.23280337e-01  1.50109941e-01 -4.50095493e-02 -3.15265835e-02\n",
            "  -1.79736268e-03  2.01857100e-02  3.88685182e-02  4.66548296e-03\n",
            "   3.09799487e-01  1.12836514e-01 -3.08198127e-02 -1.01973518e-01\n",
            "   1.07618923e-03]\n",
            " [-2.84820658e-01  6.46744678e-02  1.49339532e-01 -1.51539118e-02\n",
            "   3.55221241e-03  1.77237945e-01  2.48116635e-01 -6.49796752e-03\n",
            "  -8.70433157e-01  8.12869205e-02  2.95190435e-03  1.86714531e-01\n",
            "  -1.03409482e-05]\n",
            " [-8.66006124e-02 -1.56621385e-02 -7.36498524e-02 -2.04457785e-03\n",
            "   1.96366816e-03 -2.55672918e-01 -3.78306653e-01 -3.67520428e-02\n",
            "   5.15201690e-02  9.90290846e-02 -3.30651238e-02  8.73746543e-01\n",
            "   7.25585209e-05]\n",
            " [-2.24499994e-03 -1.85093501e-02 -8.67996529e-02  3.55402799e-03\n",
            "  -4.05154189e-05  8.47195073e-01 -5.20138389e-01  3.77131942e-02\n",
            "   9.72275203e-03 -2.31471169e-02 -3.84698250e-02  1.70170830e-02\n",
            "   4.92663809e-05]\n",
            " [-1.49715080e-02 -2.31876506e-02  9.54010643e-01 -5.28216953e-02\n",
            "  -3.02488821e-03  8.80160701e-03 -1.33204612e-01  1.99178984e-01\n",
            "   1.35621460e-01 -9.81967171e-03  9.75106606e-02  2.84851062e-02\n",
            "  -2.40452216e-04]\n",
            " [-1.56514071e-02  6.72955455e-02 -1.32063034e-01  5.39380582e-03\n",
            "   6.20888455e-04  3.88290281e-03 -3.74880307e-02  1.47552442e-01\n",
            "  -1.31188252e-02  5.03555691e-02  9.75561893e-01  1.16302516e-02\n",
            "  -9.99995129e-05]\n",
            " [ 8.02924535e-03 -1.10903923e-02 -1.73685673e-01  1.93956297e-03\n",
            "   2.28453582e-03 -2.66914407e-02  6.95985330e-02  9.66466227e-01\n",
            "  -1.76035672e-02 -4.63294250e-03 -1.66550828e-01  4.41922433e-02\n",
            "   3.62670135e-05]]\n"
          ],
          "name": "stdout"
        }
      ]
    },
    {
      "cell_type": "code",
      "metadata": {
        "id": "qEt957q18hQT",
        "colab_type": "code",
        "outputId": "4f6b917f-75fa-406f-a3c3-9b4c64491439",
        "colab": {
          "base_uri": "https://localhost:8080/",
          "height": 102
        }
      },
      "source": [
        "explained_variance = pca.explained_variance_ratio_ \n",
        "# \"Wytłumaczalność\" nowej cechy \n",
        "print(explained_variance)\n",
        "print(\"===================================\")\n"
      ],
      "execution_count": 0,
      "outputs": [
        {
          "output_type": "stream",
          "text": [
            "[9.98091230e-01 1.73591562e-03 9.49589576e-05 5.02173562e-05\n",
            " 1.23636847e-05 8.46213034e-06 2.80681456e-06 1.52308053e-06\n",
            " 1.12783044e-06 7.21415811e-07 3.78060267e-07 2.12013755e-07\n",
            " 8.25392788e-08]\n",
            "===================================\n"
          ],
          "name": "stdout"
        }
      ]
    },
    {
      "cell_type": "code",
      "metadata": {
        "id": "rzqZPIMj9_73",
        "colab_type": "code",
        "outputId": "ce9297b0-4176-4f73-aa52-47798ea30790",
        "colab": {
          "base_uri": "https://localhost:8080/",
          "height": 350
        }
      },
      "source": [
        "\n",
        "print(X_new[:5])\n",
        "X_new = pca_limit.fit_transform(X)\n",
        "plt.scatter(X_new, y)\n",
        "plt.show()"
      ],
      "execution_count": 0,
      "outputs": [
        {
          "output_type": "stream",
          "text": [
            "[[318.56297929]\n",
            " [303.09741966]\n",
            " [438.06113292]\n",
            " [733.24013935]\n",
            " [-11.5714285 ]]\n"
          ],
          "name": "stdout"
        },
        {
          "output_type": "display_data",
          "data": {
            "image/png": "[encoded data removed]",
            "text/plain": [
              "<Figure size 432x288 with 1 Axes>"
            ]
          },
          "metadata": {
            "tags": []
          }
        }
      ]
    }
  ]
}